{
 "cells": [
  {
   "cell_type": "code",
   "execution_count": 1,
   "id": "aa5c755c-ad42-4f58-9616-58a745ee246e",
   "metadata": {},
   "outputs": [],
   "source": [
    "import random\n",
    "import math\n",
    "\n",
    "import pandas as pd\n",
    "import numpy as np"
   ]
  },
  {
   "cell_type": "code",
   "execution_count": 2,
   "id": "697b70f7-a85e-4750-a527-ddef48cd12a5",
   "metadata": {},
   "outputs": [
    {
     "data": {
      "text/plain": [
       "-2.5711157077084184"
      ]
     },
     "execution_count": 2,
     "metadata": {},
     "output_type": "execute_result"
    }
   ],
   "source": [
    "np.random.normal()"
   ]
  },
  {
   "cell_type": "code",
   "execution_count": 70,
   "id": "e8368644-ac50-4746-88a7-f1fff718d504",
   "metadata": {},
   "outputs": [
    {
     "data": {
      "text/plain": [
       "count    10.000000\n",
       "mean      0.150957\n",
       "std       0.576165\n",
       "min      -0.931168\n",
       "25%       0.001209\n",
       "50%       0.190569\n",
       "75%       0.433301\n",
       "max       1.086014\n",
       "dtype: float64"
      ]
     },
     "execution_count": 70,
     "metadata": {},
     "output_type": "execute_result"
    }
   ],
   "source": [
    "pd.Series([np.random.normal() for i in range(10)]).describe()"
   ]
  },
  {
   "cell_type": "code",
   "execution_count": 3,
   "id": "0adbf8e7-eeb6-453b-899d-3051efeddd4e",
   "metadata": {},
   "outputs": [
    {
     "data": {
      "text/plain": [
       "16.68877902660432"
      ]
     },
     "execution_count": 3,
     "metadata": {},
     "output_type": "execute_result"
    }
   ],
   "source": [
    "random.uniform(10, 20)"
   ]
  },
  {
   "cell_type": "code",
   "execution_count": 32,
   "id": "62bf9360-fb5b-4fd5-a76c-94e82b6b15a5",
   "metadata": {},
   "outputs": [
    {
     "data": {
      "text/plain": [
       "<AxesSubplot:>"
      ]
     },
     "execution_count": 32,
     "metadata": {},
     "output_type": "execute_result"
    },
    {
     "data": {
      "image/png": "[encoded data removed]",
      "text/plain": [
       "<Figure size 432x288 with 1 Axes>"
      ]
     },
     "metadata": {
      "needs_background": "light"
     },
     "output_type": "display_data"
    }
   ],
   "source": [
    "ddv = [abs(np.random.normal()) for i in range(20)]\n",
    "sig = pd.Series(sorted([dd * dd for dd in ddv]))\n",
    "sig.plot()"
   ]
  },
  {
   "cell_type": "code",
   "execution_count": 43,
   "id": "d76a8e18-38f9-44a0-a414-88bb115fa72d",
   "metadata": {},
   "outputs": [],
   "source": [
    "def gen_d(k):\n",
    "    ddv = [abs(np.random.normal()) for i in range(k)]\n",
    "    a = random.uniform(10, 40)\n",
    "    b = math.sqrt(sum([dd * dd for dd in ddv]))\n",
    "    p = a / b\n",
    "    \n",
    "    return [round(p * dd) for dd in ddv]"
   ]
  },
  {
   "cell_type": "code",
   "execution_count": 44,
   "id": "0292e9a1-b074-42c5-9c91-f8efd03bbd35",
   "metadata": {},
   "outputs": [
    {
     "data": {
      "text/plain": [
       "([24, 13, 4, 1, 1, 11, 15, 11, 5, 10],\n",
       " [9, 5, 4, 1, 10, 13, 2, 2, 3, 1, 14, 4, 3, 1, 0, 9, 0, 4, 4, 0])"
      ]
     },
     "execution_count": 44,
     "metadata": {},
     "output_type": "execute_result"
    }
   ],
   "source": [
    "gen_d(10), gen_d(20)  # k が大きくなるほどそれぞれの値は小さくなる"
   ]
  },
  {
   "cell_type": "code",
   "execution_count": 51,
   "id": "6f450145-24d8-4bf7-b296-17fe67ca2c7a",
   "metadata": {},
   "outputs": [
    {
     "data": {
      "text/plain": [
       "(count    1000.000000\n",
       " mean       64.543000\n",
       " std        23.406709\n",
       " min        22.000000\n",
       " 25%        43.750000\n",
       " 50%        65.000000\n",
       " 75%        84.000000\n",
       " max       112.000000\n",
       " dtype: float64,\n",
       " count    1000.000000\n",
       " mean       90.540000\n",
       " std        31.345892\n",
       " min        33.000000\n",
       " 25%        63.000000\n",
       " 50%        92.000000\n",
       " 75%       118.000000\n",
       " max       156.000000\n",
       " dtype: float64)"
      ]
     },
     "execution_count": 51,
     "metadata": {},
     "output_type": "execute_result"
    }
   ],
   "source": [
    "sum_10 = []\n",
    "sum_20 = []\n",
    "for i in range(1000):\n",
    "    sum_10.append(sum(gen_d(10)))\n",
    "    sum_20.append(sum(gen_d(20)))\n",
    "\n",
    "pd.Series(sum_10).describe(), pd.Series(sum_20).describe()"
   ]
  },
  {
   "cell_type": "code",
   "execution_count": 52,
   "id": "1a60f1f4-34e1-44e6-895b-22ea8800928e",
   "metadata": {},
   "outputs": [],
   "source": [
    "def gen_s(k):\n",
    "    sdv = [abs(np.random.normal()) for i in range(k)]\n",
    "    a = random.uniform(20, 60)\n",
    "    b = math.sqrt(sum([sd * sd for sd in sdv]))\n",
    "    q = a / b\n",
    "    \n",
    "    return [round(q * sd) for sd in sdv]"
   ]
  },
  {
   "cell_type": "code",
   "execution_count": 53,
   "id": "f268a8bd-a5c9-4212-bedc-1396d45482a1",
   "metadata": {},
   "outputs": [
    {
     "data": {
      "text/plain": [
       "(count    1000.000000\n",
       " mean      103.830000\n",
       " std        30.836309\n",
       " min        44.000000\n",
       " 25%        78.000000\n",
       " 50%       103.000000\n",
       " 75%       128.000000\n",
       " max       177.000000\n",
       " dtype: float64,\n",
       " count    1000.000000\n",
       " mean      143.562000\n",
       " std        41.686015\n",
       " min        61.000000\n",
       " 25%       110.000000\n",
       " 50%       142.500000\n",
       " 75%       178.000000\n",
       " max       243.000000\n",
       " dtype: float64)"
      ]
     },
     "execution_count": 53,
     "metadata": {},
     "output_type": "execute_result"
    }
   ],
   "source": [
    "sum_10 = []\n",
    "sum_20 = []\n",
    "for i in range(1000):\n",
    "    sum_10.append(sum(gen_s(10)))\n",
    "    sum_20.append(sum(gen_s(20)))\n",
    "\n",
    "pd.Series(sum_10).describe(), pd.Series(sum_20).describe()"
   ]
  },
  {
   "cell_type": "code",
   "execution_count": 78,
   "id": "4a872175-d91c-4ce4-b953-321fc8891590",
   "metadata": {},
   "outputs": [
    {
     "data": {
      "text/plain": [
       "<AxesSubplot:>"
      ]
     },
     "execution_count": 78,
     "metadata": {},
     "output_type": "execute_result"
    },
    {
     "data": {
      "image/png": "[encoded data removed]",
      "text/plain": [
       "<Figure size 432x288 with 1 Axes>"
      ]
     },
     "metadata": {
      "needs_background": "light"
     },
     "output_type": "display_data"
    }
   ],
   "source": [
    "std_15 = []\n",
    "for i in range(1000):\n",
    "    std_15.append(pd.Series(gen_s(15)).std())\n",
    "\n",
    "pd.Series(sorted(std_15)).plot()"
   ]
  },
  {
   "cell_type": "code",
   "execution_count": 87,
   "id": "e889d122-375f-4c68-ba0f-1c5d908c8ec8",
   "metadata": {},
   "outputs": [
    {
     "data": {
      "text/plain": [
       "<AxesSubplot:>"
      ]
     },
     "execution_count": 87,
     "metadata": {},
     "output_type": "execute_result"
    },
    {
     "data": {
      "image/png": "[encoded data removed]",
      "text/plain": [
       "<Figure size 432x288 with 1 Axes>"
      ]
     },
     "metadata": {
      "needs_background": "light"
     },
     "output_type": "display_data"
    }
   ],
   "source": [
    "pd.Series(std_15).hist(bins=1 + int(math.log2(len(std_15))))"
   ]
  },
  {
   "cell_type": "code",
   "execution_count": 114,
   "id": "89c28ede-f108-4833-a29f-4dd005c49fd2",
   "metadata": {},
   "outputs": [],
   "source": [
    "def stand(a):\n",
    "    a = pd.Series(a)\n",
    "    return round((a - a.mean()) / a.std(), 1)"
   ]
  },
  {
   "cell_type": "code",
   "execution_count": 115,
   "id": "1c545f1f-8065-4668-a12a-1aa8e000c38c",
   "metadata": {},
   "outputs": [
    {
     "data": {
      "text/plain": [
       "0   -1.4\n",
       "1   -0.9\n",
       "2   -0.5\n",
       "3    0.0\n",
       "4    0.5\n",
       "5    0.9\n",
       "6    1.4\n",
       "dtype: float64"
      ]
     },
     "execution_count": 115,
     "metadata": {},
     "output_type": "execute_result"
    }
   ],
   "source": [
    "stand([1, 2, 3, 4, 5, 6, 7])"
   ]
  },
  {
   "cell_type": "code",
   "execution_count": 117,
   "id": "815fd6c9-b050-442f-a303-21950bfab6df",
   "metadata": {},
   "outputs": [
    {
     "name": "stdout",
     "output_type": "stream",
     "text": [
      "[1, 1, 1, 2, 2, 2, 3, 3, 3, 3, 4, 4, 4, 5, 5]\n",
      "[-1.4, -1.4, -1.4, -0.6, -0.6, -0.6, 0.1, 0.1, 0.1, 0.1, 0.8, 0.8, 0.8, 1.6, 1.6]\n",
      "[0, 0, 1, 1, 1, 1, 2, 2, 2, 2, 3, 4, 5, 5, 5]\n",
      "[-1.3, -1.3, -0.7, -0.7, -0.7, -0.7, -0.2, -0.2, -0.2, -0.2, 0.4, 1.0, 1.6, 1.6, 1.6]\n",
      "[1, 1, 2, 2, 2, 2, 3, 5, 6, 8, 9, 9, 10, 10, 11]\n",
      "[-1.2, -1.2, -0.9, -0.9, -0.9, -0.9, -0.6, -0.1, 0.2, 0.7, 1.0, 1.0, 1.2, 1.2, 1.5]\n",
      "[1, 3, 3, 4, 4, 6, 9, 9, 9, 11, 11, 13, 15, 16, 19]\n",
      "[-1.5, -1.1, -1.1, -0.9, -0.9, -0.5, 0.0, 0.0, 0.0, 0.4, 0.4, 0.8, 1.1, 1.3, 1.9]\n",
      "[2, 3, 4, 4, 5, 5, 6, 7, 7, 8, 10, 11, 12, 14, 18]\n",
      "[-1.3, -1.1, -0.8, -0.8, -0.6, -0.6, -0.4, -0.2, -0.2, 0.1, 0.5, 0.7, 1.0, 1.4, 2.3]\n",
      "[1, 1, 3, 3, 3, 3, 4, 4, 4, 5, 5, 6, 8, 10, 19]\n",
      "[-1.0, -1.0, -0.5, -0.5, -0.5, -0.5, -0.3, -0.3, -0.3, -0.1, -0.1, 0.2, 0.6, 1.1, 3.1]\n",
      "[0, 1, 2, 3, 4, 4, 4, 5, 8, 9, 10, 11, 11, 12, 17]\n",
      "[-1.4, -1.2, -1.0, -0.8, -0.6, -0.6, -0.6, -0.4, 0.3, 0.5, 0.7, 0.9, 0.9, 1.1, 2.1]\n",
      "[1, 1, 1, 1, 3, 5, 7, 7, 8, 9, 10, 12, 14, 14, 24]\n",
      "[-1.1, -1.1, -1.1, -1.1, -0.7, -0.4, -0.1, -0.1, 0.0, 0.2, 0.3, 0.7, 1.0, 1.0, 2.5]\n",
      "[1, 1, 3, 3, 4, 5, 5, 5, 7, 9, 10, 10, 11, 11, 26]\n",
      "[-1.0, -1.0, -0.7, -0.7, -0.5, -0.4, -0.4, -0.4, -0.1, 0.3, 0.4, 0.4, 0.6, 0.6, 3.0]\n",
      "[0, 0, 0, 3, 3, 4, 5, 6, 8, 8, 11, 12, 13, 15, 17]\n",
      "[-1.3, -1.3, -1.3, -0.7, -0.7, -0.5, -0.4, -0.2, 0.2, 0.2, 0.7, 0.9, 1.1, 1.4, 1.8]\n"
     ]
    }
   ],
   "source": [
    "for i in range(10):\n",
    "    d = gen_d(15)\n",
    "    print(sorted(d))\n",
    "    print(sorted(stand(d)))"
   ]
  },
  {
   "cell_type": "code",
   "execution_count": null,
   "id": "51998da9-0ee9-4891-9b68-d089e1cb62d1",
   "metadata": {},
   "outputs": [],
   "source": []
  }
 ],
 "metadata": {
  "kernelspec": {
   "display_name": "Python 3 (ipykernel)",
   "language": "python",
   "name": "python3"
  },
  "language_info": {
   "codemirror_mode": {
    "name": "ipython",
    "version": 3
   },
   "file_extension": ".py",
   "mimetype": "text/x-python",
   "name": "python",
   "nbconvert_exporter": "python",
   "pygments_lexer": "ipython3",
   "version": "3.9.7"
  }
 },
 "nbformat": 4,
 "nbformat_minor": 5
}
